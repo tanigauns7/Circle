{
 "cells": [
  {
   "cell_type": "code",
   "execution_count": null,
   "id": "30d7dcaf",
   "metadata": {},
   "outputs": [
    {
     "name": "stdout",
     "output_type": "stream",
     "text": [
      "Enter the radius:7\n",
      "A cicle of radius 7 has diameter 14 circumference 43 and area 153 \n"
     ]
    }
   ],
   "source": [
    "import math\n",
    "\n",
    "def calculate_diameter(r):\n",
    "    D = 2 * r\n",
    "    return D\n",
    "\n",
    "\n",
    "def calculate_circumference(r):\n",
    "    D = 2 * math.pi * r\n",
    "    return D\n",
    "\n",
    "\n",
    "def calculate_area(r):\n",
    "    D = math.pi * r * r\n",
    "    return D\n",
    "\n",
    "\n",
    "def main():\n",
    "    while True:\n",
    "        r = float(input(\"Enter the radius:\"))\n",
    "        if r < 0:\n",
    "            print(\"Invalid radius\")\n",
    "        elif r == 0:\n",
    "            print(\"Good Bye!\")\n",
    "            break\n",
    "        else:\n",
    "            D = float(calculate_diameter(r))\n",
    "            E = float(calculate_circumference(r))\n",
    "            F = float(calculate_area(r))\n",
    "            print(\"A cicle of radius %d has diameter %d circumference %d and area %d \" % (r, D, E, F))\n",
    "\n",
    "\n",
    "\n",
    "main()"
   ]
  },
  {
   "cell_type": "code",
   "execution_count": null,
   "id": "da7b9131",
   "metadata": {},
   "outputs": [],
   "source": []
  }
 ],
 "metadata": {
  "kernelspec": {
   "display_name": "Python 3 (ipykernel)",
   "language": "python",
   "name": "python3"
  },
  "language_info": {
   "codemirror_mode": {
    "name": "ipython",
    "version": 3
   },
   "file_extension": ".py",
   "mimetype": "text/x-python",
   "name": "python",
   "nbconvert_exporter": "python",
   "pygments_lexer": "ipython3",
   "version": "3.11.4"
  }
 },
 "nbformat": 4,
 "nbformat_minor": 5
}
